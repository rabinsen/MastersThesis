{
  "nbformat": 4,
  "nbformat_minor": 0,
  "metadata": {
    "colab": {
      "name": "Reflectance VNIR testing and Visualization.ipynb",
      "provenance": []
    },
    "kernelspec": {
      "name": "python3",
      "display_name": "Python 3"
    }
  },
  "cells": [
    {
      "cell_type": "code",
      "metadata": {
        "id": "cMfmhlO0ziPf",
        "colab": {
          "base_uri": "https://localhost:8080/",
          "height": 34
        },
        "outputId": "e9b59531-10ff-4801-d039-05945e68f8a3"
      },
      "source": [
        "# Import the necessary libraries\n",
        "!pip install spectral \n",
        "from sklearn.decomposition import PCA\n",
        "import os\n",
        "import scipy.io as sio\n",
        "import numpy as np\n",
        "from keras.models import load_model\n",
        "from keras.utils import np_utils\n",
        "from sklearn.metrics import classification_report, confusion_matrix, cohen_kappa_score\n",
        "import itertools\n",
        "import spectral\n",
        "import matplotlib\n",
        "%matplotlib inline\n",
        "from spectral import *\n",
        "import spectral.io.envi as envi\n",
        "from PIL import Image\n",
        "import pandas as pd\n",
        "from pickle import load\n",
        "\n",
        "from google.colab import drive\n",
        "drive.mount('/content/drive')"
      ],
      "execution_count": null,
      "outputs": [
        {
          "output_type": "stream",
          "text": [
            "Using TensorFlow backend.\n"
          ],
          "name": "stderr"
        }
      ]
    },
    {
      "cell_type": "code",
      "metadata": {
        "id": "r28a_5kc09fj"
      },
      "source": [
        "# Load the Global values (windowSize, numPCAcomponents, testRatio) from the text file global_variables.txt\n",
        "myFile = open('/content/drive/My Drive/thesis/global_variables.txt', 'r') \n",
        "file = myFile.readlines()[:]\n",
        "\n",
        "\n",
        "for line in file:\n",
        "\n",
        "    if line[0:3] == \"win\":\n",
        "\n",
        "        ds = line.find('=')\n",
        "        windowSize = int(line[ds+1:-1],10)\n",
        "\n",
        "    elif line[0:3] == \"num\":\n",
        "\n",
        "        ds = line.find('=')\n",
        "        numPCAcomponents = int(line[ds+2:-1],10)\n",
        "\n",
        "    else:\n",
        "\n",
        "        ds = line.find('=')\n",
        "        testRatio = float(line[ds+1:])\n",
        "\n",
        "\n"
      ],
      "execution_count": null,
      "outputs": []
    },
    {
      "cell_type": "code",
      "metadata": {
        "id": "-9EF-fgX1Ndx"
      },
      "source": [
        "def loadDataset():\n",
        "    image = envi.open('/content/drive/My Drive/thesis/Hyperimage/Reflectance/VNIR/09_VNIR_ROAD_MASKED.hdr',\n",
        "                      '/content/drive/My Drive/thesis/Hyperimage/Reflectance/VNIR/09_VNIR_ROAD_MASKED')\n",
        "    data = image.load()\n",
        "    label_data = Image.open('/content/drive/My Drive/thesis/Hyperimage/Reflectance/VNIR/class4.tif')\n",
        "    labels = np.array(label_data)\n",
        "    return data, labels\n",
        "\n",
        "\n",
        "def reports (X_test,y_test):\n",
        "    Y_pred = model.predict(X_test)\n",
        "    y_pred = np.argmax(Y_pred, axis=1)\n",
        "    #target_names = ['Road', 'Pavement', 'Vegetation', 'Train Track', 'Water'\n",
        "     #          ,'Train Track', 'Shadows']\n",
        "    target_names = ['Road', 'Vegetation', 'Unclassified', 'Water'\n",
        "               ,'Train Track']\n",
        "\n",
        "    classification = classification_report(np.argmax(y_test, axis=1), y_pred, target_names=target_names)\n",
        "    confusion = confusion_matrix(np.argmax(y_test, axis=1), y_pred)\n",
        "    score = model.evaluate(X_test, y_test, batch_size=32)\n",
        "    kappa = cohen_kappa_score(np.argmax(y_test, axis=1), y_pred)\n",
        "    Test_Loss =  score[0]*100\n",
        "    Test_accuracy = score[1]*100\n",
        "    \n",
        "    return classification, confusion, Test_Loss, Test_accuracy, kappa\n",
        "\n",
        "\n",
        "def applyPCA(X, numPCAcomponents=75):\n",
        "    newX = np.reshape(X, (-1, X.shape[2]))\n",
        "    pca = PCA(n_components=numPCAcomponents, whiten=True)\n",
        "    newX = pca.fit_transform(newX)\n",
        "    newX = np.reshape(newX, (X.shape[0],X.shape[1], numPCAcomponents))\n",
        "    return newX, pca\n",
        "\n",
        "def Patch(data,height_index,width_index):\n",
        "    #transpose_array = data.transpose((2,0,1))\n",
        "    #print transpose_array.shape\n",
        "    height_slice = slice(height_index, height_index+PATCH_SIZE)\n",
        "    width_slice = slice(width_index, width_index+PATCH_SIZE)\n",
        "    patch = data[height_slice, width_slice, :]\n",
        "    \n",
        "    return patch\n",
        "\n",
        "def standartizeData(X, scaler):\n",
        "    newX = np.reshape(X, (-1, X.shape[2]))\n",
        "    newX = scaler.transform(newX)\n",
        "    newX = np.reshape(newX, (X.shape[0],X.shape[1],X.shape[2]))\n",
        "    return newX\n",
        "\n",
        "def saveClassifiedData(classes):\n",
        "    with open(\"/content/drive/My Drive/thesis/result/radiance/VNIR/training_map_REF_vnir\"+ \".npy\", 'bw') as outfile:\n",
        "             np.save(outfile, classes)\n",
        "def visualize_result(img, predicted_map):\n",
        "    view = imshow(img, (1, 2, 3), stretch=((0.0, 0.9), (0.0, 0.9), (0.0, 0.9)),figsize=(16, 16), classes=predicted_map)\n",
        "    view.set_display_mode('overlay')\n",
        "    view.class_alpha = 1\n",
        "    view.show_data\n",
        "\n",
        "def extract_road_edges(road):\n",
        "    from skimage.feature import canny\n",
        "    from skimage.viewer import ImageViewer\n",
        "    from skimage import io\n",
        "    from skimage import img_as_uint\n",
        "    edges = canny(\n",
        "        image=road,\n",
        "        sigma=5.5,\n",
        "        low_threshold=0.1,\n",
        "        high_threshold=0.3,\n",
        "    )\n",
        "    #viewer = ImageViewer(edges)\n",
        "    #viewer.show()\n",
        "    from skimage.morphology import binary_dilation\n",
        "    edge = binary_dilation(edges, selem=None, out=None)\n",
        "    edge = binary_dilation(edge, selem=None, out=None)\n",
        "    #edge = binary_dilation(edge, selem=None, out=None)\n",
        "    road_edges = edge.astype(int)\n",
        "    return road_edges"
      ],
      "execution_count": null,
      "outputs": []
    },
    {
      "cell_type": "code",
      "metadata": {
        "id": "pf65UbnM2W9E",
        "colab": {
          "base_uri": "https://localhost:8080/",
          "height": 371
        },
        "outputId": "cebe3fa5-0002-42fb-d375-3e1957bf518e"
      },
      "source": [
        "X_test = np.load(\"/content/drive/My Drive/thesis/Hyperimage/Reflectance/VNIR/X_Patches_\" + str(windowSize) + \"PCA\" + str(numPCAcomponents) + \"testRatio\" + str(testRatio) + \".npy\")\n",
        "y_test = np.load(\"/content/drive/My Drive/thesis/Hyperimage/Reflectance/VNIR/y_Patches_\" + str(windowSize) + \"PCA\" + str(numPCAcomponents) + \"testRatio\" + str(testRatio) + \".npy\")\n",
        "X_test  = np.reshape(X_test, (X_test.shape[0], X_test.shape[3], X_test.shape[1], X_test.shape[2]))\n",
        "y_test = np_utils.to_categorical(y_test)\n",
        "model = load_model('/content/drive/My Drive/thesis/training/my_model1_refVNIR' + str(windowSize) + 'PCA' + str(numPCAcomponents) + \"testRatio\" + str(testRatio) + '.h5')\n",
        "scaler = load(open('/content/drive/My Drive/thesis/Hyperimage/Reflectance/VNIR/spatialSize/scaler3.pkl', 'rb'))\n",
        "X, y = loadDataset()\n",
        "X,pca = applyPCA(X,numPCAcomponents)\n",
        "height = y.shape[0]\n",
        "width = y.shape[1]\n",
        "PATCH_SIZE = windowSize\n",
        "numPCAcomponents = numPCAcomponents\n",
        "outputs = np.zeros((height,width))\n",
        "for i in range(height-PATCH_SIZE+1):\n",
        "    for j in range(width-PATCH_SIZE+1):\n",
        "        image_patch=Patch(X,i,j)\n",
        "        #print (image_patch.shape)\n",
        "        X_test_image = image_patch.reshape(1,image_patch.shape[2],image_patch.shape[0],image_patch.shape[1]).astype('float32')                                   \n",
        "        prediction = (model.predict_classes(X_test_image))                         \n",
        "        outputs[int(i+PATCH_SIZE/2)][int(j+PATCH_SIZE/2)] = prediction+1\n",
        "\n",
        "predict_images = imshow(classes = outputs.astype(int),figsize =(16,16))\n",
        "\n",
        "classes = outputs.astype(int)\n",
        "visualize_result(X, classes)\n",
        "\n",
        "saveClassifiedData(classes)"
      ],
      "execution_count": null,
      "outputs": [
        {
          "output_type": "error",
          "ename": "FileNotFoundError",
          "evalue": "ignored",
          "traceback": [
            "\u001b[0;31m---------------------------------------------------------------------------\u001b[0m",
            "\u001b[0;31mFileNotFoundError\u001b[0m                         Traceback (most recent call last)",
            "\u001b[0;32m<ipython-input-7-dd11c74bb5a5>\u001b[0m in \u001b[0;36m<module>\u001b[0;34m()\u001b[0m\n\u001b[0;32m----> 1\u001b[0;31m \u001b[0mX_test\u001b[0m \u001b[0;34m=\u001b[0m \u001b[0mnp\u001b[0m\u001b[0;34m.\u001b[0m\u001b[0mload\u001b[0m\u001b[0;34m(\u001b[0m\u001b[0;34m\"/content/drive/My Drive/thesis/Hyperimage/Reflectance/VNIR/X_Patches_\"\u001b[0m \u001b[0;34m+\u001b[0m \u001b[0mstr\u001b[0m\u001b[0;34m(\u001b[0m\u001b[0mwindowSize\u001b[0m\u001b[0;34m)\u001b[0m \u001b[0;34m+\u001b[0m \u001b[0;34m\"PCA\"\u001b[0m \u001b[0;34m+\u001b[0m \u001b[0mstr\u001b[0m\u001b[0;34m(\u001b[0m\u001b[0mnumPCAcomponents\u001b[0m\u001b[0;34m)\u001b[0m \u001b[0;34m+\u001b[0m \u001b[0;34m\"testRatio\"\u001b[0m \u001b[0;34m+\u001b[0m \u001b[0mstr\u001b[0m\u001b[0;34m(\u001b[0m\u001b[0mtestRatio\u001b[0m\u001b[0;34m)\u001b[0m \u001b[0;34m+\u001b[0m \u001b[0;34m\".npy\"\u001b[0m\u001b[0;34m)\u001b[0m\u001b[0;34m\u001b[0m\u001b[0;34m\u001b[0m\u001b[0m\n\u001b[0m\u001b[1;32m      2\u001b[0m \u001b[0my_test\u001b[0m \u001b[0;34m=\u001b[0m \u001b[0mnp\u001b[0m\u001b[0;34m.\u001b[0m\u001b[0mload\u001b[0m\u001b[0;34m(\u001b[0m\u001b[0;34m\"/content/drive/My Drive/thesis/Hyperimage/Reflectance/VNIR/y_Patches_\"\u001b[0m \u001b[0;34m+\u001b[0m \u001b[0mstr\u001b[0m\u001b[0;34m(\u001b[0m\u001b[0mwindowSize\u001b[0m\u001b[0;34m)\u001b[0m \u001b[0;34m+\u001b[0m \u001b[0;34m\"PCA\"\u001b[0m \u001b[0;34m+\u001b[0m \u001b[0mstr\u001b[0m\u001b[0;34m(\u001b[0m\u001b[0mnumPCAcomponents\u001b[0m\u001b[0;34m)\u001b[0m \u001b[0;34m+\u001b[0m \u001b[0;34m\"testRatio\"\u001b[0m \u001b[0;34m+\u001b[0m \u001b[0mstr\u001b[0m\u001b[0;34m(\u001b[0m\u001b[0mtestRatio\u001b[0m\u001b[0;34m)\u001b[0m \u001b[0;34m+\u001b[0m \u001b[0;34m\".npy\"\u001b[0m\u001b[0;34m)\u001b[0m\u001b[0;34m\u001b[0m\u001b[0;34m\u001b[0m\u001b[0m\n\u001b[1;32m      3\u001b[0m \u001b[0mX_test\u001b[0m  \u001b[0;34m=\u001b[0m \u001b[0mnp\u001b[0m\u001b[0;34m.\u001b[0m\u001b[0mreshape\u001b[0m\u001b[0;34m(\u001b[0m\u001b[0mX_test\u001b[0m\u001b[0;34m,\u001b[0m \u001b[0;34m(\u001b[0m\u001b[0mX_test\u001b[0m\u001b[0;34m.\u001b[0m\u001b[0mshape\u001b[0m\u001b[0;34m[\u001b[0m\u001b[0;36m0\u001b[0m\u001b[0;34m]\u001b[0m\u001b[0;34m,\u001b[0m \u001b[0mX_test\u001b[0m\u001b[0;34m.\u001b[0m\u001b[0mshape\u001b[0m\u001b[0;34m[\u001b[0m\u001b[0;36m3\u001b[0m\u001b[0;34m]\u001b[0m\u001b[0;34m,\u001b[0m \u001b[0mX_test\u001b[0m\u001b[0;34m.\u001b[0m\u001b[0mshape\u001b[0m\u001b[0;34m[\u001b[0m\u001b[0;36m1\u001b[0m\u001b[0;34m]\u001b[0m\u001b[0;34m,\u001b[0m \u001b[0mX_test\u001b[0m\u001b[0;34m.\u001b[0m\u001b[0mshape\u001b[0m\u001b[0;34m[\u001b[0m\u001b[0;36m2\u001b[0m\u001b[0;34m]\u001b[0m\u001b[0;34m)\u001b[0m\u001b[0;34m)\u001b[0m\u001b[0;34m\u001b[0m\u001b[0;34m\u001b[0m\u001b[0m\n\u001b[1;32m      4\u001b[0m \u001b[0my_test\u001b[0m \u001b[0;34m=\u001b[0m \u001b[0mnp_utils\u001b[0m\u001b[0;34m.\u001b[0m\u001b[0mto_categorical\u001b[0m\u001b[0;34m(\u001b[0m\u001b[0my_test\u001b[0m\u001b[0;34m)\u001b[0m\u001b[0;34m\u001b[0m\u001b[0;34m\u001b[0m\u001b[0m\n\u001b[1;32m      5\u001b[0m \u001b[0mmodel\u001b[0m \u001b[0;34m=\u001b[0m \u001b[0mload_model\u001b[0m\u001b[0;34m(\u001b[0m\u001b[0;34m'/content/drive/My Drive/thesis/training/my_model1_refVnir'\u001b[0m \u001b[0;34m+\u001b[0m \u001b[0mstr\u001b[0m\u001b[0;34m(\u001b[0m\u001b[0mwindowSize\u001b[0m\u001b[0;34m)\u001b[0m \u001b[0;34m+\u001b[0m \u001b[0;34m'PCA'\u001b[0m \u001b[0;34m+\u001b[0m \u001b[0mstr\u001b[0m\u001b[0;34m(\u001b[0m\u001b[0mnumPCAcomponents\u001b[0m\u001b[0;34m)\u001b[0m \u001b[0;34m+\u001b[0m \u001b[0;34m\"testRatio\"\u001b[0m \u001b[0;34m+\u001b[0m \u001b[0mstr\u001b[0m\u001b[0;34m(\u001b[0m\u001b[0mtestRatio\u001b[0m\u001b[0;34m)\u001b[0m \u001b[0;34m+\u001b[0m \u001b[0;34m'.h5'\u001b[0m\u001b[0;34m)\u001b[0m\u001b[0;34m\u001b[0m\u001b[0;34m\u001b[0m\u001b[0m\n",
            "\u001b[0;32m/usr/local/lib/python3.6/dist-packages/numpy/lib/npyio.py\u001b[0m in \u001b[0;36mload\u001b[0;34m(file, mmap_mode, allow_pickle, fix_imports, encoding)\u001b[0m\n\u001b[1;32m    426\u001b[0m         \u001b[0mown_fid\u001b[0m \u001b[0;34m=\u001b[0m \u001b[0;32mFalse\u001b[0m\u001b[0;34m\u001b[0m\u001b[0;34m\u001b[0m\u001b[0m\n\u001b[1;32m    427\u001b[0m     \u001b[0;32melse\u001b[0m\u001b[0;34m:\u001b[0m\u001b[0;34m\u001b[0m\u001b[0;34m\u001b[0m\u001b[0m\n\u001b[0;32m--> 428\u001b[0;31m         \u001b[0mfid\u001b[0m \u001b[0;34m=\u001b[0m \u001b[0mopen\u001b[0m\u001b[0;34m(\u001b[0m\u001b[0mos_fspath\u001b[0m\u001b[0;34m(\u001b[0m\u001b[0mfile\u001b[0m\u001b[0;34m)\u001b[0m\u001b[0;34m,\u001b[0m \u001b[0;34m\"rb\"\u001b[0m\u001b[0;34m)\u001b[0m\u001b[0;34m\u001b[0m\u001b[0;34m\u001b[0m\u001b[0m\n\u001b[0m\u001b[1;32m    429\u001b[0m         \u001b[0mown_fid\u001b[0m \u001b[0;34m=\u001b[0m \u001b[0;32mTrue\u001b[0m\u001b[0;34m\u001b[0m\u001b[0;34m\u001b[0m\u001b[0m\n\u001b[1;32m    430\u001b[0m \u001b[0;34m\u001b[0m\u001b[0m\n",
            "\u001b[0;31mFileNotFoundError\u001b[0m: [Errno 2] No such file or directory: '/content/drive/My Drive/thesis/Hyperimage/Reflectance/VNIR/X_Patches_5PCA10testRatio0.2.npy'"
          ]
        }
      ]
    },
    {
      "cell_type": "code",
      "metadata": {
        "id": "udiw53b0E09F",
        "colab": {
          "base_uri": "https://localhost:8080/",
          "height": 34
        },
        "outputId": "e6963089-291f-4d9c-8c8f-bfb843fc5469"
      },
      "source": [
        "val_image = envi.open('/content/drive/My Drive/thesis/Hyperimage/Reflectance/VNIR/validation/08_clippped_road.hdr', '/content/drive/My Drive/thesis/Hyperimage/Reflectance/VNIR/validation/08_clippped_road')\n",
        "val_img = val_image.load()\n",
        "val_img.shape\n",
        "\n",
        "X_val,pca_val = applyPCA(val_img,numPCAcomponents)\n",
        "X_val = standartizeData(X_val, scaler)\n",
        "\n",
        "height = X_val.shape[0]\n",
        "width = X_val.shape[1]\n",
        "PATCH_SIZE = windowSize\n",
        "numPCAcomponents = numPCAcomponents\n",
        "outputs = np.zeros((height,width))\n",
        "for i in range(height-PATCH_SIZE+1):\n",
        "    for j in range(width-PATCH_SIZE+1):\n",
        "        image_patch=Patch(X_val,i,j)\n",
        "        #print (image_patch.shape)\n",
        "        X_test_image = image_patch.reshape(1,image_patch.shape[2],image_patch.shape[0],image_patch.shape[1]).astype('float32')                                   \n",
        "        prediction = (model.predict_classes(X_test_image))                         \n",
        "        outputs[int(i+PATCH_SIZE/2)][int(j+PATCH_SIZE/2)] = prediction+1\n",
        "\n",
        "predict_images = imshow(classes = outputs.astype(int),figsize =(16,16))\n",
        "classes = outputs.astype(int)\n",
        "visualize_result(X_val, classes)\n",
        "def saveClassifiedData(classes):\n",
        "    with open(\"/content/drive/My Drive/thesis/result/reflectance/VNIR/val_map_REF_vnir11\"+ \".npy\", 'bw') as outfile:\n",
        "             np.save(outfile, classes)\n",
        "saveClassifiedData(classes)"
      ],
      "execution_count": null,
      "outputs": [
        {
          "output_type": "execute_result",
          "data": {
            "text/plain": [
              "(799, 2296, 186)"
            ]
          },
          "metadata": {
            "tags": []
          },
          "execution_count": 10
        }
      ]
    }
  ]
}